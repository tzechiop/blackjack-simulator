{
 "cells": [
  {
   "cell_type": "markdown",
   "id": "31d9089a",
   "metadata": {},
   "source": [
    "# Background\n",
    "The purpose of this Jupyter notebook is to create a CSV file including test cases for playing by the book.\n",
    "\n",
    "Currently, the `play_hand()` function is coded to follow the strategy in https://wizardofodds.com/games/blackjack/strategy/calculator/ with the following rules:\n",
    "- 4 or more decks\n",
    "- Dealer hits on Soft 17\n",
    "- Double allowed after split\n",
    "- Surrender NOT allowed\n",
    "- Dealer peaks for Blackjack"
   ]
  },
  {
   "cell_type": "code",
   "execution_count": 1,
   "id": "b97ee6f1",
   "metadata": {},
   "outputs": [],
   "source": [
    "import os\n",
    "while os.path.basename(os.getcwd()) != \"blackjack-simulator\":\n",
    "    os.chdir('..')"
   ]
  },
  {
   "cell_type": "code",
   "execution_count": 2,
   "id": "5621ec75",
   "metadata": {},
   "outputs": [],
   "source": [
    "from itertools import product\n",
    "import pandas as pd\n",
    "\n",
    "from blackjack_simulator.card import UNIQUE_CARDS\n",
    "from blackjack_simulator.hand import Hand"
   ]
  },
  {
   "cell_type": "markdown",
   "id": "149b0540",
   "metadata": {},
   "source": [
    "# Run Parameters"
   ]
  },
  {
   "cell_type": "code",
   "execution_count": 3,
   "id": "b4ed9b9e",
   "metadata": {},
   "outputs": [],
   "source": [
    "output_file = 'tests/test_cases_book.csv'"
   ]
  },
  {
   "cell_type": "code",
   "execution_count": 4,
   "id": "097de917",
   "metadata": {},
   "outputs": [],
   "source": [
    "test_cases = []\n",
    "for player_card_0, player_card_1, dealer_card in product(UNIQUE_CARDS.values(),\n",
    "                                                         UNIQUE_CARDS.values(),\n",
    "                                                         UNIQUE_CARDS.values()):\n",
    "    player_hand = Hand(cards=[player_card_0, player_card_1])\n",
    "    test_cases.append({\n",
    "        'Player Card 0': str(player_card_0),\n",
    "        'Player Card 1': str(player_card_1),\n",
    "        'Status': player_hand.hand_status.name if player_card_0.name != player_card_0.name else 'PAIR',\n",
    "        'Count': player_hand.value,\n",
    "        'Dealer Card': str(dealer_card)\n",
    "    })"
   ]
  },
  {
   "cell_type": "code",
   "execution_count": 7,
   "id": "edd9fbcb",
   "metadata": {},
   "outputs": [],
   "source": [
    "pd.DataFrame(test_cases).to_csv(output_file, index=False)"
   ]
  }
 ],
 "metadata": {
  "kernelspec": {
   "display_name": "Python 3 (ipykernel)",
   "language": "python",
   "name": "python3"
  },
  "language_info": {
   "codemirror_mode": {
    "name": "ipython",
    "version": 3
   },
   "file_extension": ".py",
   "mimetype": "text/x-python",
   "name": "python",
   "nbconvert_exporter": "python",
   "pygments_lexer": "ipython3",
   "version": "3.10.6"
  }
 },
 "nbformat": 4,
 "nbformat_minor": 5
}
