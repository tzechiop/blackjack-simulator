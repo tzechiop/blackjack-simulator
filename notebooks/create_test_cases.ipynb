{
 "cells": [
  {
   "cell_type": "markdown",
   "id": "fcfcc4b8",
   "metadata": {},
   "source": [
    "# Background\n",
    "The purpose of this Jupyter notebook is to create a CSV file including test cases for playing by the book."
   ]
  },
  {
   "cell_type": "code",
   "execution_count": 1,
   "id": "80eaa59a",
   "metadata": {},
   "outputs": [],
   "source": [
    "import os\n",
    "while os.path.basename(os.getcwd()) != \"blackjack-simulator\":\n",
    "    os.chdir('..')"
   ]
  },
  {
   "cell_type": "code",
   "execution_count": 3,
   "id": "afddc65e",
   "metadata": {},
   "outputs": [
    {
     "ename": "SyntaxError",
     "evalue": "from __future__ imports must occur at the beginning of the file (hand.py, line 3)",
     "output_type": "error",
     "traceback": [
      "Traceback \u001b[0;36m(most recent call last)\u001b[0m:\n",
      "\u001b[0m  File \u001b[1;32m~/Library/Caches/pypoetry/virtualenvs/blackjack-simulator-CVwp6OFK-py3.10/lib/python3.10/site-packages/IPython/core/interactiveshell.py:3433\u001b[0m in \u001b[1;35mrun_code\u001b[0m\n    exec(code_obj, self.user_global_ns, self.user_ns)\u001b[0m\n",
      "\u001b[0;36m  Cell \u001b[0;32mIn [3], line 2\u001b[0;36m\n\u001b[0;31m    from blackjack_simulator.hand import Hand\u001b[0;36m\n",
      "\u001b[0;36m  File \u001b[0;32m~/repos/blackjack-simulator/blackjack_simulator/hand.py:3\u001b[0;36m\u001b[0m\n\u001b[0;31m    from __future__ import annotations\u001b[0m\n\u001b[0m    ^\u001b[0m\n\u001b[0;31mSyntaxError\u001b[0m\u001b[0;31m:\u001b[0m from __future__ imports must occur at the beginning of the file\n"
     ]
    }
   ],
   "source": [
    "from blackjack_simulator.card import Card\n",
    "from blackjack_simulator.hand import Hand"
   ]
  },
  {
   "cell_type": "code",
   "execution_count": null,
   "id": "5b21d5f6",
   "metadata": {},
   "outputs": [],
   "source": []
  }
 ],
 "metadata": {
  "kernelspec": {
   "display_name": "Python 3 (ipykernel)",
   "language": "python",
   "name": "python3"
  },
  "language_info": {
   "codemirror_mode": {
    "name": "ipython",
    "version": 3
   },
   "file_extension": ".py",
   "mimetype": "text/x-python",
   "name": "python",
   "nbconvert_exporter": "python",
   "pygments_lexer": "ipython3",
   "version": "3.10.6"
  }
 },
 "nbformat": 4,
 "nbformat_minor": 5
}
